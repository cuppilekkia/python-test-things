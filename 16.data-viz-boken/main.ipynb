{
 "metadata": {
  "language_info": {
   "codemirror_mode": {
    "name": "ipython",
    "version": 3
   },
   "file_extension": ".py",
   "mimetype": "text/x-python",
   "name": "python",
   "nbconvert_exporter": "python",
   "pygments_lexer": "ipython3",
   "version": "3.9.2"
  },
  "orig_nbformat": 2,
  "kernelspec": {
   "name": "python3",
   "display_name": "Python 3.9.2 64-bit",
   "metadata": {
    "interpreter": {
     "hash": "ac2eaa0ea0ebeafcc7822e65e46aa9d4f966f30b695406963e145ea4a91cd4fc"
    }
   }
  }
 },
 "nbformat": 4,
 "nbformat_minor": 2,
 "cells": [
  {
   "cell_type": "code",
   "execution_count": 5,
   "metadata": {},
   "outputs": [],
   "source": [
    "from bokeh.plotting import figure\n",
    "from bokeh.io import output_file, show\n",
    "\n",
    "X=[1,2,3,4,5]\n",
    "Y=[6,7,8,9,10]\n",
    "\n",
    "#output_file(\"line.html\")\n",
    "\n",
    "f=figure()\n",
    "\n",
    "f.line(X,Y)\n",
    "\n",
    "show(f)\n"
   ]
  },
  {
   "cell_type": "code",
   "execution_count": 10,
   "metadata": {},
   "outputs": [],
   "source": [
    "import pandas\n",
    "\n",
    "df=pandas.read_csv(\"./data.csv\")\n",
    "x=df[\"x\"]\n",
    "y=df[\"y\"]\n",
    "\n",
    "f=figure(plot_width=500,plot_height=400, tools='pan')\n",
    "f.title.text=\"Cool Data\"\n",
    "f.title.text_color=\"Gray\"\n",
    "f.title.text_font=\"times\"\n",
    "f.title.text_font_style=\"bold\"\n",
    "f.xaxis.minor_tick_line_color=None\n",
    "f.yaxis.minor_tick_line_color=None\n",
    "f.xaxis.axis_label=\"Date\"\n",
    "f.yaxis.axis_label=\"Intensity\"    \n",
    "\n",
    "f.line(x,y)\n",
    "\n",
    "show(f)"
   ]
  },
  {
   "cell_type": "code",
   "execution_count": 15,
   "metadata": {},
   "outputs": [],
   "source": [
    "\n",
    "tp=pandas.read_excel(\"http://pythonhow.com/data/verlegenhuken.xlsx\")\n",
    "\n",
    "tp[\"Temperature\"]=tp[\"Temperature\"]/10\n",
    "tp[\"Pressure\"]=tp[\"Pressure\"]/10\n",
    "#print(tp)\n",
    "f2=figure(plot_width=800, plot_height=500)\n",
    "\n",
    "f2.title.text=\"Temperature and Air Pressure\"\n",
    "f2.title.text_color=\"Gray\"\n",
    "f2.title.text_font=\"arial\"\n",
    "f2.title.text_font_style=\"bold\"\n",
    "f2.xaxis.minor_tick_line_color=None\n",
    "f2.yaxis.minor_tick_line_color=None\n",
    "f2.xaxis.axis_label=\"Temperature (°C)\"\n",
    "f2.yaxis.axis_label=\"Pressure (hPa)\" \n",
    "\n",
    "f2.circle(tp[\"Temperature\"],tp[\"Pressure\"],size=0.5)\n",
    "show(f2)"
   ]
  },
  {
   "cell_type": "code",
   "execution_count": 25,
   "metadata": {},
   "outputs": [],
   "source": [
    "\n",
    "data=pandas.read_csv(\"./adbe.csv\",parse_dates=[\"Date\"])\n",
    "\n",
    "x=data[\"Date\"]\n",
    "y1=data[\"Close\"]\n",
    "y2=data[\"High\"]\n",
    "y3=data[\"Low\"]\n",
    "\n",
    "f3=figure(width=800,height=300, x_axis_type=\"datetime\")\n",
    "f3.line(x,y1,color=\"Orange\")\n",
    "f3.line(x,y2,color=\"Red\")\n",
    "f3.line(x,y3,color=\"Green\")\n",
    "show(f3)"
   ]
  },
  {
   "cell_type": "code",
   "execution_count": null,
   "metadata": {},
   "outputs": [],
   "source": []
  }
 ]
}